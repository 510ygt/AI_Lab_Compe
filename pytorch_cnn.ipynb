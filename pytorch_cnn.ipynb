{
  "cells": [
    {
      "cell_type": "markdown",
      "metadata": {
        "id": "lHJSLwLyBjnp"
      },
      "source": [
        "# Pytorchを用いたCNNの実装\n",
        "\n",
        "## 概要\n",
        "\n",
        "機械学習用ライブラリPytorchを用いて、PythonでCNNを実装します。<br>\n",
        "今回は、CIFAR-10を用いた10クラス認識のモデルを設計し、学習させます。\n",
        "\n",
        "\n",
        "##  目次\n",
        "\n",
        "1. データの準備\n",
        "1. モデルの定義\n",
        "1. モデルの学習\n",
        "1. 学習記録のグラフ化\n",
        "1. モデルのセーブ・ロード\n",
        "1. モデルを用いたクラス認識予測デモ\n",
        "1. モデルの中間出力の可視化\n",
        "\n",
        "の順に実装します。\n",
        "\n",
        "## データの準備\n",
        "### 1. 1. ライブラリをインストールします。\n",
        "- torchsummary\n",
        "- tqdm"
      ]
    },
    {
      "cell_type": "code",
      "execution_count": null,
      "metadata": {
        "id": "UxIHg8e2Bjns"
      },
      "outputs": [],
      "source": [
        "#pip install torchsummary\n",
        "#pip install tqdm #conda install tqdmでも可\n",
        "\n",
        "#pip install torch==1.8.0+cu111 torchvision==0.9.0+cu111 torchaudio==0.8.0 -f https://download.pytorch.org/whl/torch_stable.html\n",
        "#pip install jupyterlab"
      ]
    },
    {
      "cell_type": "markdown",
      "metadata": {
        "id": "293RM_s3Bjnx"
      },
      "source": [
        "### 1. 2. ライブラリをインポートします。\n",
        "- pytorch(torch)\n",
        "- torchvision\n",
        "- numpy\n",
        "- matplotlib\n",
        "- PIL\n",
        "- tqdm\n",
        "- torchsummary\n",
        "- pylab"
      ]
    },
    {
      "cell_type": "code",
      "execution_count": null,
      "metadata": {
        "id": "cTjjoBfyBjny"
      },
      "outputs": [],
      "source": [
        "import torch as torch\n",
        "import torchvision\n",
        "import torch.nn as nn\n",
        "import torch.nn.init as init\n",
        "import torch.optim as optim\n",
        "import torch.nn.functional as F\n",
        "import torchvision.transforms as transforms\n",
        "import numpy as np\n",
        "from matplotlib import pyplot as plt\n",
        "from PIL import Image\n",
        "from tqdm import tqdm_notebook\n",
        "from torchsummary import summary\n",
        "from pylab import rcParams"
      ]
    },
    {
      "cell_type": "markdown",
      "metadata": {
        "id": "-I3-z91cBjn1"
      },
      "source": [
        "### 1.3. データセット内の教師画像(PILImage)の下処理、変換を定義します。\n",
        "- **torchvision.transforms**パッケージ内のクラスで行います。transforms.Composeでオブジェクトをまとめて返せます。  \n",
        "- transfoms.処理一例\n",
        "    - transforms.RandomHorizontalFlip(p=0.5), 50%で左右反転  \n",
        "    - transforms.RandomVerticalFlip(p=0.5) 50%で上下反転  \n",
        "    - transforms.RandomRotation(45) -45~45の範囲でランダムに回転  \n",
        "    - transforms.ColorJitter(brightness=0.5) 明るさをランダムに0.5倍～1.5倍  \n",
        "    - transforms.ToTensor()  PILImage -> Tensor, 0~1正規化  \n",
        "- pytorchではデータをTensor形式で扱います。(listやnumpyと似たような構造を持つ)"
      ]
    },
    {
      "cell_type": "code",
      "execution_count": null,
      "metadata": {
        "id": "OtJ60dgnBjn2"
      },
      "outputs": [],
      "source": [
        "transform = transforms.Compose([\n",
        "    transforms.RandomHorizontalFlip(p=0.5),\n",
        "    transforms.ToTensor(), \n",
        "    ])"
      ]
    },
    {
      "cell_type": "markdown",
      "metadata": {
        "id": "ek4JZjJ0Bjn5"
      },
      "source": [
        "### 1.4. データセットのロード(画像(PILImage)と正解ラベルが格納されている))\n",
        "- 有名なデータセットは**torchvision.datasets**クラス内で定義されており、簡単に利用できます。"
      ]
    },
    {
      "cell_type": "code",
      "execution_count": null,
      "metadata": {
        "colab": {
          "base_uri": "https://localhost:8080/",
          "height": 117,
          "referenced_widgets": [
            "8d33bbf004524bfa83982c489c6bfefa",
            "056b1a5f2c3340edbdf2d7c9b094c8dc",
            "76746f7c45754c57ab78ea081107b4c1",
            "b317994d1c664e45931b198c4a0801e3",
            "da2b2f4c59b94d868c1064e56fca8a73",
            "7074fa6a34564802ab1239a254f90bf6",
            "d36b415a75e344eb8774763b86956b51",
            "5291cc5a45484153900e7c9658477e75"
          ]
        },
        "id": "6Nt5WZFvBjn6",
        "outputId": "932639ea-9372-433e-8b56-b32bc06b2f16"
      },
      "outputs": [
        {
          "name": "stdout",
          "output_type": "stream",
          "text": [
            "Downloading https://www.cs.toronto.edu/~kriz/cifar-10-python.tar.gz to ./dataset/cifar-10-python.tar.gz\n"
          ]
        },
        {
          "data": {
            "application/vnd.jupyter.widget-view+json": {
              "model_id": "8d33bbf004524bfa83982c489c6bfefa",
              "version_major": 2,
              "version_minor": 0
            },
            "text/plain": [
              "HBox(children=(FloatProgress(value=0.0, max=170498071.0), HTML(value='')))"
            ]
          },
          "metadata": {
            "tags": []
          },
          "output_type": "display_data"
        },
        {
          "name": "stdout",
          "output_type": "stream",
          "text": [
            "\n",
            "Extracting ./dataset/cifar-10-python.tar.gz to ./dataset/\n",
            "Files already downloaded and verified\n"
          ]
        }
      ],
      "source": [
        "train_dataset = torchvision.datasets.CIFAR10(root='./dataset/',\n",
        "                                             train=True, #訓練データをロード\n",
        "                                             transform=transform,#上で定義した変換を適用\n",
        "                                             download=True)\n",
        "test_dataset = torchvision.datasets.CIFAR10(root='./dataset/',\n",
        "                                             train=False, #検証データをロード\n",
        "                                             transform=transforms.ToTensor(),\n",
        "                                             download=True)"
      ]
    },
    {
      "cell_type": "markdown",
      "metadata": {
        "id": "2HEb72ciBjn9"
      },
      "source": [
        "### 1.5. データセット可視化用に画像(PILImage or Tensor)を壁画する関数を定義します。\n",
        "- データセットの入力画像(PILImage)をtorchvision.transforms.ToTensor()でTensor型に変換したものを出力します\n",
        "- 画像を表示するplt.imshow関数の引数の入力画像サイズは(H,W,C)なので(C,H,W)を**np.transpose(numpy,(並びの指定))**で(H,W,C)に変換します"
      ]
    },
    {
      "cell_type": "code",
      "execution_count": null,
      "metadata": {
        "id": "ux82OL41Bjn-"
      },
      "outputs": [],
      "source": [
        "%matplotlib inline\n",
        "def show(img):\n",
        "    npimg = img.numpy() \n",
        "    plt.grid(False) \n",
        "    plt.imshow(np.transpose(npimg, (1,2,0)))\n",
        "    plt.show()"
      ]
    },
    {
      "cell_type": "markdown",
      "metadata": {
        "id": "pJFiltYYBjoC"
      },
      "source": [
        "### 1.6. データセットの可視化"
      ]
    },
    {
      "cell_type": "code",
      "execution_count": null,
      "metadata": {
        "colab": {
          "base_uri": "https://localhost:8080/",
          "height": 453
        },
        "id": "iMwzNN_IBjoD",
        "outputId": "fc04115a-9ecb-46a5-aae7-31ed8114dd44"
      },
      "outputs": [
        {
          "name": "stdout",
          "output_type": "stream",
          "text": [
            "Dataset CIFAR10\n",
            "    Number of datapoints: 50000\n",
            "    Root location: ./dataset/\n",
            "    Split: Train\n",
            "    StandardTransform\n",
            "Transform: Compose(\n",
            "               RandomHorizontalFlip(p=0.5)\n",
            "               ToTensor()\n",
            "           )\n",
            "学習画像サイズ torch.Size([3, 32, 32])\n",
            "ラベル: 9\n"
          ]
        },
        {
          "data": {
            "image/png": "[encoded data removed]",
            "text/plain": [
              "<Figure size 432x288 with 1 Axes>"
            ]
          },
          "metadata": {
            "needs_background": "light",
            "tags": []
          },
          "output_type": "display_data"
        }
      ],
      "source": [
        "print (train_dataset)\n",
        "image, label = train_dataset[1]\n",
        "print(\"学習画像サイズ\",image.size())\n",
        "print (\"ラベル:\",label)\n",
        "show(image)"
      ]
    },
    {
      "cell_type": "markdown",
      "metadata": {
        "id": "GFvZRjDUBjoH"
      },
      "source": [
        "### 1.7. データセットをミニバッチ単位に変換します。\n",
        "- **torch.utils.data.DataLoader**クラスで行います。"
      ]
    },
    {
      "cell_type": "code",
      "execution_count": null,
      "metadata": {
        "colab": {
          "base_uri": "https://localhost:8080/"
        },
        "id": "-HhV3WIsBjoI",
        "outputId": "567b92ee-6708-4e51-880c-e9941906c0ee"
      },
      "outputs": [
        {
          "name": "stderr",
          "output_type": "stream",
          "text": [
            "/usr/local/lib/python3.7/dist-packages/torch/utils/data/dataloader.py:477: UserWarning: This DataLoader will create 4 worker processes in total. Our suggested max number of worker in current system is 2, which is smaller than what this DataLoader is going to create. Please be aware that excessive worker creation might get DataLoader running slow or even freeze, lower the worker number to avoid potential slowness/freeze if necessary.\n",
            "  cpuset_checked))\n"
          ]
        }
      ],
      "source": [
        "train_loader = torch.utils.data.DataLoader(dataset=train_dataset,\n",
        "                                           batch_size=64, #バッチあたり64枚\n",
        "                                           shuffle=True,\n",
        "                                          num_workers=4)#4プロセスでデータをロード\n",
        "test_loader = torch.utils.data.DataLoader(dataset=test_dataset,\n",
        "                                           batch_size=64, \n",
        "                                           shuffle=False,\n",
        "                                         num_workers=4)"
      ]
    },
    {
      "cell_type": "markdown",
      "metadata": {
        "id": "zKkA-yOtBjoL"
      },
      "source": [
        "## 2.モデルの定義\n",
        "### 2.1. モデルの定義(nn.Moduleを継承したクラスでの書き方)\n",
        "- **__init__**関数でネットワーク層の定義、初期化を行います。\n",
        "- **forward**関数でモデルの入力→出力の定義、順伝搬の計算を行います。  \n",
        "    - 定義したネットワーク層に入力(x)を伝搬していきます。\n",
        "- 全結合ネットワークは**nn.Liner(入力パラメータ数、出力パラメータ数)**で定義します。\n",
        "    - 画像データを扱う場合、入力パラメータ数は**二次元データを一次元に変換**して入力します。\n",
        "    - Tensorのサイズ変換には**Tensor.view(軸について要素数を指定)**を用います。"
      ]
    },
    {
      "cell_type": "code",
      "execution_count": null,
      "metadata": {
        "id": "uzRLSUVkBjoN"
      },
      "outputs": [],
      "source": [
        "num_classes = 10#出力クラス数\n",
        "\n",
        "class AlexNet(nn.Module):\n",
        "    \n",
        "    #畳み込みブロック(プーリングなし)\n",
        "    def conv_block(self, in_dim, out_dim):\n",
        "        return nn.Sequential(\n",
        "            nn.Conv2d(in_dim, out_dim, kernel_size=3, stride=1, padding=1),\n",
        "            nn.BatchNorm2d(out_dim),\n",
        "            \n",
        "        )\n",
        "    #畳み込みブロック(プーリングあり)\n",
        "    def conv_block_pooling(self, in_dim, out_dim):\n",
        "        return nn.Sequential(\n",
        "            nn.Conv2d(in_dim, out_dim, kernel_size=3, stride=1, padding=1),\n",
        "            nn.BatchNorm2d(out_dim),\n",
        "            nn.ReLU(inplace=True),\n",
        "            nn.MaxPool2d(kernel_size=2),\n",
        "        )\n",
        "    \n",
        "    def __init__(self, num_classes):\n",
        "        super(AlexNet, self).__init__()\n",
        "        #畳み込みブロック群\n",
        "        self.block1=self.conv_block(3,96)\n",
        "        self.block2=self.conv_block_pooling(96,256)\n",
        "        self.block3=self.conv_block(256,384)\n",
        "        self.block4=self.conv_block_pooling(384,384)\n",
        "        self.block5=self.conv_block(384,256)\n",
        "        #全結合ブロック群\n",
        "        self.classifier= nn.Sequential(\n",
        "            #6ブロック(ここから全結合層)\n",
        "            nn.Dropout(p=0.5),\n",
        "            nn.Linear(256*8*8,1048),\n",
        "            #7ブロック\n",
        "            nn.Dropout(p=0.5),\n",
        "            nn.Linear(1048,1048),\n",
        "            #8ブロック(出力)\n",
        "            nn.Linear(1048,num_classes),\n",
        "        )\n",
        "\n",
        "    def forward(self, x):\n",
        "        #1-5ブロック\n",
        "        x=self.block1(x)\n",
        "        x=self.block2(x)\n",
        "        x=self.block3(x)\n",
        "        x=self.block4(x)\n",
        "        x=self.block5(x)\n",
        "        #(N,C,H,W)→(N,C*H*W)\n",
        "        x = x.view(x.size(0),256*8*8)\n",
        "        #6-8ブロック\n",
        "        x = self.classifier(x)\n",
        "        return x\n",
        "    \n",
        "    \n",
        "device = 'cuda' if torch.cuda.is_available() else 'cpu'\n",
        "net = AlexNet(num_classes).to(device)#モデルをインスタンス\n"
      ]
    },
    {
      "cell_type": "code",
      "execution_count": null,
      "metadata": {
        "id": "IL3Vw4hm-IX0"
      },
      "outputs": [],
      "source": [
        "class AlexNet(nn.Module):\n",
        "    def __init__(self, num_classes=10):\n",
        "        super(AlexNet, self).__init__()#おまじない\n",
        "        self.features = nn.Sequential(\n",
        "            nn.Conv2d(3, 64, kernel_size=11, stride=4, padding=5),\n",
        "            nn.ReLU(inplace=True),\n",
        "            nn.MaxPool2d(kernel_size=2, stride=2),\n",
        "            nn.Conv2d(64, 192, kernel_size=5, padding=2),\n",
        "            nn.ReLU(inplace=True),\n",
        "            nn.MaxPool2d(kernel_size=2, stride=2),\n",
        "            nn.Conv2d(192, 384, kernel_size=3, padding=1),\n",
        "            nn.ReLU(inplace=True),\n",
        "            nn.Conv2d(384, 256, kernel_size=3, padding=1),\n",
        "            nn.ReLU(inplace=True),\n",
        "            nn.Conv2d(256, 256, kernel_size=3, padding=1),\n",
        "            nn.ReLU(inplace=True),\n",
        "            nn.MaxPool2d(kernel_size=2, stride=2),\n",
        "        )\n",
        "        self.classifer = nn.Linear(256, num_classes)\n",
        "      \n",
        "        def forward(self, x):#ここで以前までの定義した関数を組み立てる\n",
        "            x = self.features(x)\n",
        "            x = x.view(x.size(0), -1)\n",
        "            x = self.classifier(x)#全結合層を実装\n",
        "            return x\n",
        "\n",
        "print(AlexNet())"
      ]
    },
    {
      "cell_type": "markdown",
      "metadata": {
        "id": "FLrQHdL7BjoQ"
      },
      "source": [
        "### 2.2. モデルの可視化\n",
        "- **summary(モデル,入力サイズ(チャンネル数、パラメータ数))**クラスで可視化を行います。"
      ]
    },
    {
      "cell_type": "code",
      "execution_count": null,
      "metadata": {
        "colab": {
          "base_uri": "https://localhost:8080/"
        },
        "id": "rAHTUjZrBjoQ",
        "outputId": "23bdc152-0b95-4af7-d568-13dd8947bf83"
      },
      "outputs": [
        {
          "name": "stdout",
          "output_type": "stream",
          "text": [
            "----------------------------------------------------------------\n",
            "        Layer (type)               Output Shape         Param #\n",
            "================================================================\n",
            "            Conv2d-1           [-1, 96, 32, 32]           2,688\n",
            "       BatchNorm2d-2           [-1, 96, 32, 32]             192\n",
            "              ReLU-3           [-1, 96, 32, 32]               0\n",
            "            Conv2d-4          [-1, 256, 32, 32]         221,440\n",
            "       BatchNorm2d-5          [-1, 256, 32, 32]             512\n",
            "              ReLU-6          [-1, 256, 32, 32]               0\n",
            "         MaxPool2d-7          [-1, 256, 16, 16]               0\n",
            "            Conv2d-8          [-1, 384, 16, 16]         885,120\n",
            "       BatchNorm2d-9          [-1, 384, 16, 16]             768\n",
            "             ReLU-10          [-1, 384, 16, 16]               0\n",
            "           Conv2d-11          [-1, 384, 16, 16]       1,327,488\n",
            "      BatchNorm2d-12          [-1, 384, 16, 16]             768\n",
            "             ReLU-13          [-1, 384, 16, 16]               0\n",
            "        MaxPool2d-14            [-1, 384, 8, 8]               0\n",
            "           Conv2d-15            [-1, 256, 8, 8]         884,992\n",
            "      BatchNorm2d-16            [-1, 256, 8, 8]             512\n",
            "             ReLU-17            [-1, 256, 8, 8]               0\n",
            "          Dropout-18                [-1, 16384]               0\n",
            "           Linear-19                 [-1, 1048]      17,171,480\n",
            "          Dropout-20                 [-1, 1048]               0\n",
            "           Linear-21                 [-1, 1048]       1,099,352\n",
            "           Linear-22                   [-1, 10]          10,490\n",
            "================================================================\n",
            "Total params: 21,605,802\n",
            "Trainable params: 21,605,802\n",
            "Non-trainable params: 0\n",
            "----------------------------------------------------------------\n",
            "Input size (MB): 0.01\n",
            "Forward/backward pass size (MB): 13.96\n",
            "Params size (MB): 82.42\n",
            "Estimated Total Size (MB): 96.39\n",
            "----------------------------------------------------------------\n"
          ]
        }
      ],
      "source": [
        "summary(net, input_size=(3, 32, 32))"
      ]
    },
    {
      "cell_type": "markdown",
      "metadata": {
        "id": "GkOyYt_TBjoT"
      },
      "source": [
        "## 3. モデルの学習\n",
        "### 3.1. 損失関数、最適化法(オプティマイザー)の定義\n",
        "- 損失関数は**nn.CrossEntropyLoss()**(ソフトマックス+交差エントロピー)を用います。\n",
        "- 最適化法には**optim.SGD(適用するモデルの重み、その他ハイパーパラメータの設定・・・)**を用います。"
      ]
    },
    {
      "cell_type": "code",
      "execution_count": null,
      "metadata": {
        "id": "EsYsLJdyBjoU"
      },
      "outputs": [],
      "source": [
        "criterion = nn.CrossEntropyLoss()\n",
        "optimizer = optim.SGD(net.parameters(), lr=0.01, momentum=0.9, weight_decay=5e-4)"
      ]
    },
    {
      "cell_type": "markdown",
      "metadata": {
        "id": "AyXqyVoyBjoX"
      },
      "source": [
        "### 3.2. 学習の流れ(エポック単位)\n",
        "- ①画像データと正解ラベルを取り出す\n",
        "    - tqdmはjupyter内にプログレスバー(進行度)を表示する\n",
        "- ②画像データとラベルデータ(共にバッチ単位)をデバイス(GPU)に移動\n",
        "- ③勾配の初期化\n",
        "- ④モデルの推測(画像データ→各クラスである確率)\n",
        "- ⑤損失の計算\n",
        "- ⑥⑤で求めた損失をエポックでの累計損失に加える\n",
        "    - Tensorから値を取得する場合は、1次元(1要素)に指定してから.item()で取得する必要がある\n",
        "- ⑦正答率の計算(出力の最大値のインデックスが正解ラベルの場合1を出力をバッチサイズ分行う(.sum())\n",
        "    - (.maxは()で比較する値の軸を選び、[0]に最大値の値、[1]に最大値のインデックスを持つ)\n",
        "- ⑧逆伝搬の計算\n",
        "- ⑨勾配の更新<br>\n",
        "\n",
        "---全バッチで行う---\n",
        "- ⑩エポックでの平均誤差の計算\n",
        "- ⑪エポックでの平均正答率の計算\n",
        "- 検証データでの損失、精度を学習時と同じアルゴリズムで検証(逆伝搬、勾配の更新は行わない)\n",
        "\n",
        "*1:学習時には.train()で学習に関連する機能を有効にします。   \n",
        "*2:検証時には.eval()で学習に関連する機能を有効に、torch.no_grad()で自動微分を停止してから検証を行います。"
      ]
    },
    {
      "cell_type": "code",
      "execution_count": null,
      "metadata": {
        "colab": {
          "base_uri": "https://localhost:8080/",
          "height": 516,
          "referenced_widgets": [
            "7e1df73c0ce7461ca51306ea0559cdf4",
            "367c4bfa30844860b62f624b0ddff71d",
            "8708feae9fea42168a31e1285ca259cb",
            "baf05b7decab408f9143d5f27a14a85b",
            "6ef8358030044d18a200bede11d2f453",
            "72b9324eb9374f8394b987a91bb26dd2",
            "1f644e033c1e46bdbfe86f7228087ef6",
            "f23c9e33a36b474aade183f1640ee5a4"
          ]
        },
        "id": "FnxAYcG8BjoY",
        "outputId": "597e0ce1-3b46-4a76-ef50-acf63ccfb3e3"
      },
      "outputs": [
        {
          "name": "stderr",
          "output_type": "stream",
          "text": [
            "/usr/local/lib/python3.7/dist-packages/ipykernel_launcher.py:18: TqdmDeprecationWarning: This function will be removed in tqdm==5.0.0\n",
            "Please use `tqdm.notebook.tqdm` instead of `tqdm.tqdm_notebook`\n"
          ]
        },
        {
          "data": {
            "application/vnd.jupyter.widget-view+json": {
              "model_id": "7e1df73c0ce7461ca51306ea0559cdf4",
              "version_major": 2,
              "version_minor": 0
            },
            "text/plain": [
              "HBox(children=(FloatProgress(value=0.0, max=782.0), HTML(value='')))"
            ]
          },
          "metadata": {
            "tags": []
          },
          "output_type": "display_data"
        },
        {
          "name": "stderr",
          "output_type": "stream",
          "text": [
            "/usr/local/lib/python3.7/dist-packages/torch/utils/data/dataloader.py:477: UserWarning: This DataLoader will create 4 worker processes in total. Our suggested max number of worker in current system is 2, which is smaller than what this DataLoader is going to create. Please be aware that excessive worker creation might get DataLoader running slow or even freeze, lower the worker number to avoid potential slowness/freeze if necessary.\n",
            "  cpuset_checked))\n"
          ]
        },
        {
          "ename": "KeyboardInterrupt",
          "evalue": "ignored",
          "output_type": "error",
          "traceback": [
            "\u001b[0;31m---------------------------------------------------------------------------\u001b[0m",
            "\u001b[0;31mKeyboardInterrupt\u001b[0m                         Traceback (most recent call last)",
            "\u001b[0;32m<ipython-input-11-45c675e4ef65>\u001b[0m in \u001b[0;36m<module>\u001b[0;34m()\u001b[0m\n\u001b[1;32m     23\u001b[0m         \u001b[0mtrain_loss\u001b[0m \u001b[0;34m+=\u001b[0m \u001b[0mloss\u001b[0m\u001b[0;34m.\u001b[0m\u001b[0mitem\u001b[0m\u001b[0;34m(\u001b[0m\u001b[0;34m)\u001b[0m\u001b[0;31m#⑥\u001b[0m\u001b[0;34m\u001b[0m\u001b[0;34m\u001b[0m\u001b[0m\n\u001b[1;32m     24\u001b[0m         \u001b[0mtrain_acc\u001b[0m \u001b[0;34m+=\u001b[0m \u001b[0;34m(\u001b[0m\u001b[0moutputs\u001b[0m\u001b[0;34m.\u001b[0m\u001b[0mmax\u001b[0m\u001b[0;34m(\u001b[0m\u001b[0;36m1\u001b[0m\u001b[0;34m)\u001b[0m\u001b[0;34m[\u001b[0m\u001b[0;36m1\u001b[0m\u001b[0;34m]\u001b[0m \u001b[0;34m==\u001b[0m \u001b[0mlabels\u001b[0m\u001b[0;34m)\u001b[0m\u001b[0;34m.\u001b[0m\u001b[0msum\u001b[0m\u001b[0;34m(\u001b[0m\u001b[0;34m)\u001b[0m\u001b[0;34m.\u001b[0m\u001b[0mitem\u001b[0m\u001b[0;34m(\u001b[0m\u001b[0;34m)\u001b[0m \u001b[0;31m#⑦\u001b[0m\u001b[0;34m\u001b[0m\u001b[0;34m\u001b[0m\u001b[0m\n\u001b[0;32m---> 25\u001b[0;31m         \u001b[0mloss\u001b[0m\u001b[0;34m.\u001b[0m\u001b[0mbackward\u001b[0m\u001b[0;34m(\u001b[0m\u001b[0;34m)\u001b[0m\u001b[0;31m#⑧\u001b[0m\u001b[0;34m\u001b[0m\u001b[0;34m\u001b[0m\u001b[0m\n\u001b[0m\u001b[1;32m     26\u001b[0m         \u001b[0moptimizer\u001b[0m\u001b[0;34m.\u001b[0m\u001b[0mstep\u001b[0m\u001b[0;34m(\u001b[0m\u001b[0;34m)\u001b[0m\u001b[0;31m#⑨\u001b[0m\u001b[0;34m\u001b[0m\u001b[0;34m\u001b[0m\u001b[0m\n\u001b[1;32m     27\u001b[0m \u001b[0;34m\u001b[0m\u001b[0m\n",
            "\u001b[0;32m/usr/local/lib/python3.7/dist-packages/torch/tensor.py\u001b[0m in \u001b[0;36mbackward\u001b[0;34m(self, gradient, retain_graph, create_graph, inputs)\u001b[0m\n\u001b[1;32m    243\u001b[0m                 \u001b[0mcreate_graph\u001b[0m\u001b[0;34m=\u001b[0m\u001b[0mcreate_graph\u001b[0m\u001b[0;34m,\u001b[0m\u001b[0;34m\u001b[0m\u001b[0;34m\u001b[0m\u001b[0m\n\u001b[1;32m    244\u001b[0m                 inputs=inputs)\n\u001b[0;32m--> 245\u001b[0;31m         \u001b[0mtorch\u001b[0m\u001b[0;34m.\u001b[0m\u001b[0mautograd\u001b[0m\u001b[0;34m.\u001b[0m\u001b[0mbackward\u001b[0m\u001b[0;34m(\u001b[0m\u001b[0mself\u001b[0m\u001b[0;34m,\u001b[0m \u001b[0mgradient\u001b[0m\u001b[0;34m,\u001b[0m \u001b[0mretain_graph\u001b[0m\u001b[0;34m,\u001b[0m \u001b[0mcreate_graph\u001b[0m\u001b[0;34m,\u001b[0m \u001b[0minputs\u001b[0m\u001b[0;34m=\u001b[0m\u001b[0minputs\u001b[0m\u001b[0;34m)\u001b[0m\u001b[0;34m\u001b[0m\u001b[0;34m\u001b[0m\u001b[0m\n\u001b[0m\u001b[1;32m    246\u001b[0m \u001b[0;34m\u001b[0m\u001b[0m\n\u001b[1;32m    247\u001b[0m     \u001b[0;32mdef\u001b[0m \u001b[0mregister_hook\u001b[0m\u001b[0;34m(\u001b[0m\u001b[0mself\u001b[0m\u001b[0;34m,\u001b[0m \u001b[0mhook\u001b[0m\u001b[0;34m)\u001b[0m\u001b[0;34m:\u001b[0m\u001b[0;34m\u001b[0m\u001b[0;34m\u001b[0m\u001b[0m\n",
            "\u001b[0;32m/usr/local/lib/python3.7/dist-packages/torch/autograd/__init__.py\u001b[0m in \u001b[0;36mbackward\u001b[0;34m(tensors, grad_tensors, retain_graph, create_graph, grad_variables, inputs)\u001b[0m\n\u001b[1;32m    145\u001b[0m     Variable._execution_engine.run_backward(\n\u001b[1;32m    146\u001b[0m         \u001b[0mtensors\u001b[0m\u001b[0;34m,\u001b[0m \u001b[0mgrad_tensors_\u001b[0m\u001b[0;34m,\u001b[0m \u001b[0mretain_graph\u001b[0m\u001b[0;34m,\u001b[0m \u001b[0mcreate_graph\u001b[0m\u001b[0;34m,\u001b[0m \u001b[0minputs\u001b[0m\u001b[0;34m,\u001b[0m\u001b[0;34m\u001b[0m\u001b[0;34m\u001b[0m\u001b[0m\n\u001b[0;32m--> 147\u001b[0;31m         allow_unreachable=True, accumulate_grad=True)  # allow_unreachable flag\n\u001b[0m\u001b[1;32m    148\u001b[0m \u001b[0;34m\u001b[0m\u001b[0m\n\u001b[1;32m    149\u001b[0m \u001b[0;34m\u001b[0m\u001b[0m\n",
            "\u001b[0;31mKeyboardInterrupt\u001b[0m: "
          ]
        }
      ],
      "source": [
        "num_epochs = 20 #学習エポックの設定\n",
        "\n",
        "#グラフ作成のためにエポックごとの各値を保存する配列を作成\n",
        "train_loss_list = []\n",
        "train_acc_list = []\n",
        "val_loss_list = []\n",
        "val_acc_list = []\n",
        "\n",
        "#学習の定義\n",
        "for epoch in range(num_epochs):\n",
        "    train_loss = 0\n",
        "    train_acc = 0\n",
        "    val_loss = 0\n",
        "    val_acc = 0\n",
        "    i=0#学習回数\n",
        "    \n",
        "    net.train() #train *1\n",
        "    for (images, labels) in tqdm_notebook(train_loader): #①\n",
        "        images, labels = images.to(device), labels.to(device) #②\n",
        "        optimizer.zero_grad() #③\n",
        "        outputs = net(images) #④\n",
        "        loss = criterion(outputs, labels)#⑤\n",
        "        train_loss += loss.item()#⑥\n",
        "        train_acc += (outputs.max(1)[1] == labels).sum().item() #⑦\n",
        "        loss.backward()#⑧\n",
        "        optimizer.step()#⑨\n",
        "    \n",
        "    avg_train_loss = train_loss / len(train_loader.dataset) #⑩\n",
        "    avg_train_acc = train_acc / len(train_loader.dataset)   #⑪\n",
        "    \n",
        "    net.eval() #val *2\n",
        "    with torch.no_grad():#自動微分停止 *2\n",
        "        for images, labels in test_loader:\n",
        "            images = images.to(device)\n",
        "            labels = labels.to(device)\n",
        "            outputs = net(images)\n",
        "            loss = criterion(outputs, labels)\n",
        "            val_loss += loss.item()\n",
        "            val_acc += (outputs.max(1)[1] == labels).sum().item()\n",
        "        avg_val_loss = val_loss / len(test_loader.dataset)\n",
        "        avg_val_acc = val_acc / len(test_loader.dataset)\n",
        "    \n",
        "        print ('Epoch [{}/{}], Loss: {loss:.4f}, val_loss: {val_loss:.4f}, val_acc: {val_acc:.4f}' \n",
        "                   .format(epoch+1, num_epochs, i+1, loss=avg_train_loss, val_loss=avg_val_loss, val_acc=avg_val_acc))\n",
        "        #グラフ壁画用に各値を配列に格納\n",
        "        train_loss_list.append(avg_train_loss)\n",
        "        train_acc_list.append(avg_train_acc)\n",
        "        val_loss_list.append(avg_val_loss)\n",
        "        val_acc_list.append(avg_val_acc)"
      ]
    },
    {
      "cell_type": "markdown",
      "metadata": {
        "id": "CAbATIl2Bjob"
      },
      "source": [
        "## 4. 学習記録のグラフ化\n",
        "- matplotlibを用います。"
      ]
    },
    {
      "cell_type": "code",
      "execution_count": null,
      "metadata": {
        "id": "zlc4MPFzBjod"
      },
      "outputs": [],
      "source": [
        "#学習のグラフ化\n",
        "plt.figure()\n",
        "plt.plot(range(num_epochs), train_loss_list, color='blue', linestyle='-', label='train_loss')\n",
        "plt.plot(range(num_epochs), val_loss_list, color='green', linestyle='--', label='val_loss')\n",
        "plt.legend()\n",
        "plt.xlabel('epoch')\n",
        "plt.ylabel('loss')\n",
        "plt.title('Training and validation loss')\n",
        "plt.grid()\n",
        "\n",
        "plt.figure()\n",
        "plt.plot(range(num_epochs), train_acc_list, color='blue', linestyle='-', label='train_acc')\n",
        "plt.plot(range(num_epochs), val_acc_list, color='green', linestyle='--', label='val_acc')\n",
        "plt.legend()\n",
        "plt.xlabel('epoch')\n",
        "plt.ylabel('acc')\n",
        "plt.title('Training and validation accuracy')\n",
        "plt.grid()"
      ]
    },
    {
      "cell_type": "markdown",
      "metadata": {
        "id": "vQE7nBI8Bjog"
      },
      "source": [
        "## 5. モデルのセーブ・ロード\n",
        "### 5.1. モデルのセーブ\n",
        "- モデルの保存は**(torch.save(model.state_dict,保存先のパス)**で行います。"
      ]
    },
    {
      "cell_type": "code",
      "execution_count": null,
      "metadata": {
        "id": "K4jils6OBjoh"
      },
      "outputs": [],
      "source": [
        "torch.save(net.state_dict(),\"net.ckpt\")#モデルの保存"
      ]
    },
    {
      "cell_type": "markdown",
      "metadata": {
        "id": "ymlMzXdTBjok"
      },
      "source": [
        "### 5.2. モデルのロード\n",
        "- モデルの読み込みは**model.load_state_dict(torch.load(読み込み先のパス))**で行います。"
      ]
    },
    {
      "cell_type": "code",
      "execution_count": null,
      "metadata": {
        "id": "MeBEjclTBjol"
      },
      "outputs": [],
      "source": [
        "#学習済みモデルを使用する場合はモデルをロード(CPUで実行する場合。GPU実行時はmap_location...は不要)\n",
        "net.load_state_dict(torch.load(\"./net.ckpt\",map_location=torch.device('cpu')))"
      ]
    },
    {
      "cell_type": "markdown",
      "metadata": {
        "id": "lYwNXFOWBjon"
      },
      "source": [
        "## 6. モデルを用いたクラス認識予測デモ\n",
        "### 6.1. 予測する画像(猫の背景部分を切り取った画像)の読み込み、前処理\n",
        "- 画像の読み込み(JpegImageFile)・前処理にはPILライブラリのImageクラスを用います。\n",
        "    - モデルの入力サイズに画像をリサイズします。\n",
        "- モデルの入力サイズはバッチ単位なので**Tensor.unsqueeze(追加する軸の位置)**でバッチの次元を追加します。"
      ]
    },
    {
      "cell_type": "code",
      "execution_count": null,
      "metadata": {
        "id": "Ydhwm_u-Bjoo"
      },
      "outputs": [],
      "source": [
        "image_path=r\"./cat_trim.jpg\"\n",
        "img = Image.open(image_path)\n",
        "img = img.resize((32, 32))\n",
        "plt.imshow(img)\n",
        "img=transforms.ToTensor()(img)\n",
        "img=img.unsqueeze(0)\n",
        "print(img.shape)"
      ]
    },
    {
      "cell_type": "markdown",
      "metadata": {
        "id": "Yq167D4FBjor"
      },
      "source": [
        "### 6.2. モデルによるクラス予測(猫の背景部分を切り取った画像)\n",
        "- label_nameはモデルの出力インデックスに対応するクラス名を定義しています。\n",
        "- **nn.Softmax(値の軸)**で得られた出力を合計で1となるような確率に変換します。"
      ]
    },
    {
      "cell_type": "code",
      "execution_count": null,
      "metadata": {
        "id": "D1omwF9DBjot"
      },
      "outputs": [],
      "source": [
        "net.eval()\n",
        "with torch.no_grad():\n",
        "    #output=net(img.cuda())\n",
        "    img.to(device)\n",
        "    output=net(img)\n",
        "    output=output.cpu()\n",
        "    label_name=[\"airplane\",\"automobile\",\"bird\",\"cat\",\"deer\",\"dog\",\"frog\",\"horse\",\"ship\",\"truck\"] \n",
        "    output_probability=nn.Softmax(0)(output[0])\n",
        "    for i in range(0,9):\n",
        "        print(label_name[i],\"である確率は\",output_probability[i].item(),\"です\")\n",
        "    predict_label=output.max(1)[1]\n",
        "    print(\"入力した画像のクラスは\",label_name[predict_label.item()],\"です\")\n",
        "    "
      ]
    },
    {
      "cell_type": "markdown",
      "metadata": {
        "id": "zKFyOPjQBjow"
      },
      "source": [
        "### 6.3. 予測する画像(猫の原画像)の読み込み、前処理"
      ]
    },
    {
      "cell_type": "code",
      "execution_count": null,
      "metadata": {
        "id": "rG7YuFRIBjox"
      },
      "outputs": [],
      "source": [
        "image_path=r\"./cat_origin.jpg\"\n",
        "img = Image.open(image_path)\n",
        "img = img.resize((32, 32))\n",
        "plt.imshow(img)\n",
        "img=transforms.ToTensor()(img)\n",
        "img=img.unsqueeze(0)\n",
        "print(img.shape)"
      ]
    },
    {
      "cell_type": "markdown",
      "metadata": {
        "id": "bJJieyEpBjo0"
      },
      "source": [
        "### 6.4. モデルによるクラス予測(猫の背景部分を切り取った画像)"
      ]
    },
    {
      "cell_type": "code",
      "execution_count": null,
      "metadata": {
        "id": "fjrohhvbBjo0"
      },
      "outputs": [],
      "source": [
        "net.eval()\n",
        "with torch.no_grad():\n",
        "    #output=net(img.cuda())\n",
        "    img.to(device)\n",
        "    output=net(img)\n",
        "    output=output.cpu()\n",
        "    output_probability=nn.Softmax(0)(output[0])\n",
        "    for i in range(0,9):\n",
        "        print(label_name[i],\"である確率は\",output_probability[i].item(),\"です\")\n",
        "    predict_label=output.max(1)[1]\n",
        "    print(\"入力した画像のクラスは\",label_name[predict_label.item()],\"です\")"
      ]
    },
    {
      "cell_type": "markdown",
      "metadata": {
        "id": "3AGZN9XFBjo3"
      },
      "source": [
        "## 7. モデルの中間出力の可視化\n",
        "### 7.1. モデルの中間出力\n",
        "- nn.Moduleを継承したクラスで定義されたモデルでは__init__関数で定義したネットワーク層を個別に取り出すことができます。\n",
        "    - 入力を逐次的にそれぞれのネットワーク層へ伝搬していくことでそれぞれのネットワーク層の出力を得ています。"
      ]
    },
    {
      "cell_type": "code",
      "execution_count": null,
      "metadata": {
        "id": "EvDp14AdBjo3"
      },
      "outputs": [],
      "source": [
        "with torch.no_grad():\n",
        "    #ブロック毎の中間出力を得ていく\n",
        "    img.to(device)\n",
        "    #output1=net.block1(img.cuda())\n",
        "    output1=net.block1(img)\n",
        "    output2=net.block2(output1)\n",
        "    output3=net.block3(output2)\n",
        "    output4=net.block4(output3)\n",
        "    output5=net.block5(output4)\n",
        "    #出力をCPUへ\n",
        "    output1=output1.cpu()\n",
        "    output2=output2.cpu()\n",
        "    output3=output3.cpu()\n",
        "    output4=output4.cpu()\n",
        "    output5=output5.cpu()"
      ]
    },
    {
      "cell_type": "markdown",
      "metadata": {
        "id": "65LHN-FIBjo6"
      },
      "source": [
        "### 7.2. 中間出力の壁画設定\n",
        "- mataplotlibを用いて壁画します。\n",
        "- 中間出力をを1チャンネルずつ出力するのでグレースケールで壁画します。\n",
        "- pylabライブラリのrcParamsクラスを用いることで壁画サイズを10倍に拡大しています。\n",
        "- output_image関数は引数のネットワーク層での中間出力を10種類壁画する関数です。"
      ]
    },
    {
      "cell_type": "code",
      "execution_count": null,
      "metadata": {
        "id": "76HwOSnEBjo7"
      },
      "outputs": [],
      "source": [
        "plt.gray()#グレースケールで表示(フィルタは1チャンネルで表示)\n",
        "rcParams['figure.figsize'] = 10,10#10倍拡大\n",
        "\n",
        "def output_image(output,block_num):\n",
        "    output=output.numpy()\n",
        "    for i in range(0,10):\n",
        "        ax=plt.subplot(5,10,10*(block_num-1)+(i+1))#5*10個に領域分けしたうちの5*(ブロック数-11)*(i+1)個目を選択\n",
        "        # 目盛りを無くす。\n",
        "        ax.set_xticks([])\n",
        "        ax.set_yticks([])\n",
        "        plt.imshow(output[0][i])"
      ]
    },
    {
      "cell_type": "markdown",
      "metadata": {
        "id": "_6VAwDyhBjo-"
      },
      "source": [
        "### 7.3. 中間出力の壁画\n",
        "- output_image関数を用います。"
      ]
    },
    {
      "cell_type": "code",
      "execution_count": null,
      "metadata": {
        "id": "uBEl_mW3Bjo_",
        "scrolled": true
      },
      "outputs": [],
      "source": [
        "output_image(output1,1)\n",
        "output_image(output2,2)\n",
        "output_image(output3,3)\n",
        "output_image(output4,4)\n",
        "output_image(output5,5)"
      ]
    }
  ],
  "metadata": {
    "colab": {
      "collapsed_sections": [],
      "name": "pytorch_cnn.ipynb",
      "provenance": []
    },
    "kernelspec": {
      "display_name": "Python 3",
      "language": "python",
      "name": "python3"
    },
    "language_info": {
      "codemirror_mode": {
        "name": "ipython",
        "version": 3
      },
      "file_extension": ".py",
      "mimetype": "text/x-python",
      "name": "python",
      "nbconvert_exporter": "python",
      "pygments_lexer": "ipython3",
      "version": "3.7.7"
    },
    "widgets": {
      "application/vnd.jupyter.widget-state+json": {
        "056b1a5f2c3340edbdf2d7c9b094c8dc": {
          "model_module": "@jupyter-widgets/base",
          "model_module_version": "1.2.0",
          "model_name": "LayoutModel",
          "state": {
            "_model_module": "@jupyter-widgets/base",
            "_model_module_version": "1.2.0",
            "_model_name": "LayoutModel",
            "_view_count": null,
            "_view_module": "@jupyter-widgets/base",
            "_view_module_version": "1.2.0",
            "_view_name": "LayoutView",
            "align_content": null,
            "align_items": null,
            "align_self": null,
            "border": null,
            "bottom": null,
            "display": null,
            "flex": null,
            "flex_flow": null,
            "grid_area": null,
            "grid_auto_columns": null,
            "grid_auto_flow": null,
            "grid_auto_rows": null,
            "grid_column": null,
            "grid_gap": null,
            "grid_row": null,
            "grid_template_areas": null,
            "grid_template_columns": null,
            "grid_template_rows": null,
            "height": null,
            "justify_content": null,
            "justify_items": null,
            "left": null,
            "margin": null,
            "max_height": null,
            "max_width": null,
            "min_height": null,
            "min_width": null,
            "object_fit": null,
            "object_position": null,
            "order": null,
            "overflow": null,
            "overflow_x": null,
            "overflow_y": null,
            "padding": null,
            "right": null,
            "top": null,
            "visibility": null,
            "width": null
          }
        },
        "1f644e033c1e46bdbfe86f7228087ef6": {
          "model_module": "@jupyter-widgets/controls",
          "model_module_version": "1.5.0",
          "model_name": "DescriptionStyleModel",
          "state": {
            "_model_module": "@jupyter-widgets/controls",
            "_model_module_version": "1.5.0",
            "_model_name": "DescriptionStyleModel",
            "_view_count": null,
            "_view_module": "@jupyter-widgets/base",
            "_view_module_version": "1.2.0",
            "_view_name": "StyleView",
            "description_width": ""
          }
        },
        "367c4bfa30844860b62f624b0ddff71d": {
          "model_module": "@jupyter-widgets/base",
          "model_module_version": "1.2.0",
          "model_name": "LayoutModel",
          "state": {
            "_model_module": "@jupyter-widgets/base",
            "_model_module_version": "1.2.0",
            "_model_name": "LayoutModel",
            "_view_count": null,
            "_view_module": "@jupyter-widgets/base",
            "_view_module_version": "1.2.0",
            "_view_name": "LayoutView",
            "align_content": null,
            "align_items": null,
            "align_self": null,
            "border": null,
            "bottom": null,
            "display": null,
            "flex": null,
            "flex_flow": null,
            "grid_area": null,
            "grid_auto_columns": null,
            "grid_auto_flow": null,
            "grid_auto_rows": null,
            "grid_column": null,
            "grid_gap": null,
            "grid_row": null,
            "grid_template_areas": null,
            "grid_template_columns": null,
            "grid_template_rows": null,
            "height": null,
            "justify_content": null,
            "justify_items": null,
            "left": null,
            "margin": null,
            "max_height": null,
            "max_width": null,
            "min_height": null,
            "min_width": null,
            "object_fit": null,
            "object_position": null,
            "order": null,
            "overflow": null,
            "overflow_x": null,
            "overflow_y": null,
            "padding": null,
            "right": null,
            "top": null,
            "visibility": null,
            "width": null
          }
        },
        "5291cc5a45484153900e7c9658477e75": {
          "model_module": "@jupyter-widgets/base",
          "model_module_version": "1.2.0",
          "model_name": "LayoutModel",
          "state": {
            "_model_module": "@jupyter-widgets/base",
            "_model_module_version": "1.2.0",
            "_model_name": "LayoutModel",
            "_view_count": null,
            "_view_module": "@jupyter-widgets/base",
            "_view_module_version": "1.2.0",
            "_view_name": "LayoutView",
            "align_content": null,
            "align_items": null,
            "align_self": null,
            "border": null,
            "bottom": null,
            "display": null,
            "flex": null,
            "flex_flow": null,
            "grid_area": null,
            "grid_auto_columns": null,
            "grid_auto_flow": null,
            "grid_auto_rows": null,
            "grid_column": null,
            "grid_gap": null,
            "grid_row": null,
            "grid_template_areas": null,
            "grid_template_columns": null,
            "grid_template_rows": null,
            "height": null,
            "justify_content": null,
            "justify_items": null,
            "left": null,
            "margin": null,
            "max_height": null,
            "max_width": null,
            "min_height": null,
            "min_width": null,
            "object_fit": null,
            "object_position": null,
            "order": null,
            "overflow": null,
            "overflow_x": null,
            "overflow_y": null,
            "padding": null,
            "right": null,
            "top": null,
            "visibility": null,
            "width": null
          }
        },
        "6ef8358030044d18a200bede11d2f453": {
          "model_module": "@jupyter-widgets/controls",
          "model_module_version": "1.5.0",
          "model_name": "ProgressStyleModel",
          "state": {
            "_model_module": "@jupyter-widgets/controls",
            "_model_module_version": "1.5.0",
            "_model_name": "ProgressStyleModel",
            "_view_count": null,
            "_view_module": "@jupyter-widgets/base",
            "_view_module_version": "1.2.0",
            "_view_name": "StyleView",
            "bar_color": null,
            "description_width": "initial"
          }
        },
        "7074fa6a34564802ab1239a254f90bf6": {
          "model_module": "@jupyter-widgets/base",
          "model_module_version": "1.2.0",
          "model_name": "LayoutModel",
          "state": {
            "_model_module": "@jupyter-widgets/base",
            "_model_module_version": "1.2.0",
            "_model_name": "LayoutModel",
            "_view_count": null,
            "_view_module": "@jupyter-widgets/base",
            "_view_module_version": "1.2.0",
            "_view_name": "LayoutView",
            "align_content": null,
            "align_items": null,
            "align_self": null,
            "border": null,
            "bottom": null,
            "display": null,
            "flex": null,
            "flex_flow": null,
            "grid_area": null,
            "grid_auto_columns": null,
            "grid_auto_flow": null,
            "grid_auto_rows": null,
            "grid_column": null,
            "grid_gap": null,
            "grid_row": null,
            "grid_template_areas": null,
            "grid_template_columns": null,
            "grid_template_rows": null,
            "height": null,
            "justify_content": null,
            "justify_items": null,
            "left": null,
            "margin": null,
            "max_height": null,
            "max_width": null,
            "min_height": null,
            "min_width": null,
            "object_fit": null,
            "object_position": null,
            "order": null,
            "overflow": null,
            "overflow_x": null,
            "overflow_y": null,
            "padding": null,
            "right": null,
            "top": null,
            "visibility": null,
            "width": null
          }
        },
        "72b9324eb9374f8394b987a91bb26dd2": {
          "model_module": "@jupyter-widgets/base",
          "model_module_version": "1.2.0",
          "model_name": "LayoutModel",
          "state": {
            "_model_module": "@jupyter-widgets/base",
            "_model_module_version": "1.2.0",
            "_model_name": "LayoutModel",
            "_view_count": null,
            "_view_module": "@jupyter-widgets/base",
            "_view_module_version": "1.2.0",
            "_view_name": "LayoutView",
            "align_content": null,
            "align_items": null,
            "align_self": null,
            "border": null,
            "bottom": null,
            "display": null,
            "flex": null,
            "flex_flow": null,
            "grid_area": null,
            "grid_auto_columns": null,
            "grid_auto_flow": null,
            "grid_auto_rows": null,
            "grid_column": null,
            "grid_gap": null,
            "grid_row": null,
            "grid_template_areas": null,
            "grid_template_columns": null,
            "grid_template_rows": null,
            "height": null,
            "justify_content": null,
            "justify_items": null,
            "left": null,
            "margin": null,
            "max_height": null,
            "max_width": null,
            "min_height": null,
            "min_width": null,
            "object_fit": null,
            "object_position": null,
            "order": null,
            "overflow": null,
            "overflow_x": null,
            "overflow_y": null,
            "padding": null,
            "right": null,
            "top": null,
            "visibility": null,
            "width": null
          }
        },
        "76746f7c45754c57ab78ea081107b4c1": {
          "model_module": "@jupyter-widgets/controls",
          "model_module_version": "1.5.0",
          "model_name": "FloatProgressModel",
          "state": {
            "_dom_classes": [],
            "_model_module": "@jupyter-widgets/controls",
            "_model_module_version": "1.5.0",
            "_model_name": "FloatProgressModel",
            "_view_count": null,
            "_view_module": "@jupyter-widgets/controls",
            "_view_module_version": "1.5.0",
            "_view_name": "ProgressView",
            "bar_style": "success",
            "description": "",
            "description_tooltip": null,
            "layout": "IPY_MODEL_7074fa6a34564802ab1239a254f90bf6",
            "max": 170498071,
            "min": 0,
            "orientation": "horizontal",
            "style": "IPY_MODEL_da2b2f4c59b94d868c1064e56fca8a73",
            "value": 170498071
          }
        },
        "7e1df73c0ce7461ca51306ea0559cdf4": {
          "model_module": "@jupyter-widgets/controls",
          "model_module_version": "1.5.0",
          "model_name": "HBoxModel",
          "state": {
            "_dom_classes": [],
            "_model_module": "@jupyter-widgets/controls",
            "_model_module_version": "1.5.0",
            "_model_name": "HBoxModel",
            "_view_count": null,
            "_view_module": "@jupyter-widgets/controls",
            "_view_module_version": "1.5.0",
            "_view_name": "HBoxView",
            "box_style": "",
            "children": [
              "IPY_MODEL_8708feae9fea42168a31e1285ca259cb",
              "IPY_MODEL_baf05b7decab408f9143d5f27a14a85b"
            ],
            "layout": "IPY_MODEL_367c4bfa30844860b62f624b0ddff71d"
          }
        },
        "8708feae9fea42168a31e1285ca259cb": {
          "model_module": "@jupyter-widgets/controls",
          "model_module_version": "1.5.0",
          "model_name": "FloatProgressModel",
          "state": {
            "_dom_classes": [],
            "_model_module": "@jupyter-widgets/controls",
            "_model_module_version": "1.5.0",
            "_model_name": "FloatProgressModel",
            "_view_count": null,
            "_view_module": "@jupyter-widgets/controls",
            "_view_module_version": "1.5.0",
            "_view_name": "ProgressView",
            "bar_style": "danger",
            "description": "  0%",
            "description_tooltip": null,
            "layout": "IPY_MODEL_72b9324eb9374f8394b987a91bb26dd2",
            "max": 782,
            "min": 0,
            "orientation": "horizontal",
            "style": "IPY_MODEL_6ef8358030044d18a200bede11d2f453",
            "value": 1
          }
        },
        "8d33bbf004524bfa83982c489c6bfefa": {
          "model_module": "@jupyter-widgets/controls",
          "model_module_version": "1.5.0",
          "model_name": "HBoxModel",
          "state": {
            "_dom_classes": [],
            "_model_module": "@jupyter-widgets/controls",
            "_model_module_version": "1.5.0",
            "_model_name": "HBoxModel",
            "_view_count": null,
            "_view_module": "@jupyter-widgets/controls",
            "_view_module_version": "1.5.0",
            "_view_name": "HBoxView",
            "box_style": "",
            "children": [
              "IPY_MODEL_76746f7c45754c57ab78ea081107b4c1",
              "IPY_MODEL_b317994d1c664e45931b198c4a0801e3"
            ],
            "layout": "IPY_MODEL_056b1a5f2c3340edbdf2d7c9b094c8dc"
          }
        },
        "b317994d1c664e45931b198c4a0801e3": {
          "model_module": "@jupyter-widgets/controls",
          "model_module_version": "1.5.0",
          "model_name": "HTMLModel",
          "state": {
            "_dom_classes": [],
            "_model_module": "@jupyter-widgets/controls",
            "_model_module_version": "1.5.0",
            "_model_name": "HTMLModel",
            "_view_count": null,
            "_view_module": "@jupyter-widgets/controls",
            "_view_module_version": "1.5.0",
            "_view_name": "HTMLView",
            "description": "",
            "description_tooltip": null,
            "layout": "IPY_MODEL_5291cc5a45484153900e7c9658477e75",
            "placeholder": "​",
            "style": "IPY_MODEL_d36b415a75e344eb8774763b86956b51",
            "value": " 170499072/? [00:07&lt;00:00, 23518015.16it/s]"
          }
        },
        "baf05b7decab408f9143d5f27a14a85b": {
          "model_module": "@jupyter-widgets/controls",
          "model_module_version": "1.5.0",
          "model_name": "HTMLModel",
          "state": {
            "_dom_classes": [],
            "_model_module": "@jupyter-widgets/controls",
            "_model_module_version": "1.5.0",
            "_model_name": "HTMLModel",
            "_view_count": null,
            "_view_module": "@jupyter-widgets/controls",
            "_view_module_version": "1.5.0",
            "_view_name": "HTMLView",
            "description": "",
            "description_tooltip": null,
            "layout": "IPY_MODEL_f23c9e33a36b474aade183f1640ee5a4",
            "placeholder": "​",
            "style": "IPY_MODEL_1f644e033c1e46bdbfe86f7228087ef6",
            "value": " 1/782 [00:16&lt;3:39:34, 16.87s/it]"
          }
        },
        "d36b415a75e344eb8774763b86956b51": {
          "model_module": "@jupyter-widgets/controls",
          "model_module_version": "1.5.0",
          "model_name": "DescriptionStyleModel",
          "state": {
            "_model_module": "@jupyter-widgets/controls",
            "_model_module_version": "1.5.0",
            "_model_name": "DescriptionStyleModel",
            "_view_count": null,
            "_view_module": "@jupyter-widgets/base",
            "_view_module_version": "1.2.0",
            "_view_name": "StyleView",
            "description_width": ""
          }
        },
        "da2b2f4c59b94d868c1064e56fca8a73": {
          "model_module": "@jupyter-widgets/controls",
          "model_module_version": "1.5.0",
          "model_name": "ProgressStyleModel",
          "state": {
            "_model_module": "@jupyter-widgets/controls",
            "_model_module_version": "1.5.0",
            "_model_name": "ProgressStyleModel",
            "_view_count": null,
            "_view_module": "@jupyter-widgets/base",
            "_view_module_version": "1.2.0",
            "_view_name": "StyleView",
            "bar_color": null,
            "description_width": "initial"
          }
        },
        "f23c9e33a36b474aade183f1640ee5a4": {
          "model_module": "@jupyter-widgets/base",
          "model_module_version": "1.2.0",
          "model_name": "LayoutModel",
          "state": {
            "_model_module": "@jupyter-widgets/base",
            "_model_module_version": "1.2.0",
            "_model_name": "LayoutModel",
            "_view_count": null,
            "_view_module": "@jupyter-widgets/base",
            "_view_module_version": "1.2.0",
            "_view_name": "LayoutView",
            "align_content": null,
            "align_items": null,
            "align_self": null,
            "border": null,
            "bottom": null,
            "display": null,
            "flex": null,
            "flex_flow": null,
            "grid_area": null,
            "grid_auto_columns": null,
            "grid_auto_flow": null,
            "grid_auto_rows": null,
            "grid_column": null,
            "grid_gap": null,
            "grid_row": null,
            "grid_template_areas": null,
            "grid_template_columns": null,
            "grid_template_rows": null,
            "height": null,
            "justify_content": null,
            "justify_items": null,
            "left": null,
            "margin": null,
            "max_height": null,
            "max_width": null,
            "min_height": null,
            "min_width": null,
            "object_fit": null,
            "object_position": null,
            "order": null,
            "overflow": null,
            "overflow_x": null,
            "overflow_y": null,
            "padding": null,
            "right": null,
            "top": null,
            "visibility": null,
            "width": null
          }
        }
      }
    }
  },
  "nbformat": 4,
  "nbformat_minor": 0
}
